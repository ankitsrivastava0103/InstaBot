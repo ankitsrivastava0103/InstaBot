{
 "cells": [
  {
   "cell_type": "markdown",
   "metadata": {},
   "source": [
    "## InstaBot Project Part 2"
   ]
  },
  {
   "cell_type": "code",
   "execution_count": 1,
   "metadata": {},
   "outputs": [],
   "source": [
    "from selenium.webdriver.common.keys import Keys ## Provide keys in the keyboard like RETURN, F1, ALT\n",
    "from selenium.webdriver.support.ui import Select ## To select the option html attribute\n",
    "from selenium.webdriver.support.ui import WebDriverWait ## To use implcit and explicit wait\n",
    "from selenium.webdriver.support import expected_conditions as EC ## Use in explicitly wait\n",
    "from selenium.common.exceptions import NoSuchElementException ## To Handle NoSuchElementException\n",
    "from selenium.webdriver.common.by import By ## To select the attribute by Class,link_text\n",
    "from selenium import webdriver ## To import web Driver\n",
    "import time ## To use in wait\n",
    "from bs4 import BeautifulSoup ## Work with attribute \n",
    "import matplotlib.pyplot as plt ## To plot graphs\n",
    "from datetime import date ## For Date In Question 1\n",
    "import pandas as pd ## For Creating CSV File In Question2\n",
    "import numpy as np ## For Creating CSV File In Question 2"
   ]
  },
  {
   "cell_type": "code",
   "execution_count": 2,
   "metadata": {},
   "outputs": [],
   "source": [
    "driver = webdriver.Chrome(executable_path = 'Files\\chromedriver') ## Creating Driver Object by Invoking ChromeDriver\n",
    "driver.get('https://www.instagram.com/') ## Passing The Required Website Link\n",
    "wait = WebDriverWait(driver, 10) ## Waiting for 10ms For The Contents of Website to Get Loaded"
   ]
  },
  {
   "cell_type": "markdown",
   "metadata": {},
   "source": [
    "## 1) Now your friend has followed a lot of different food bloggers, he needs to analyse the habits of these bloggers."
   ]
  },
  {
   "cell_type": "markdown",
   "metadata": {},
   "source": [
    "## 1.1) From the list of instagram handles you obtained when you searched ‘food’ in previous project. Open the first 10 handles and find the top 5 which have the highest number of followers"
   ]
  },
  {
   "cell_type": "code",
   "execution_count": 3,
   "metadata": {},
   "outputs": [],
   "source": [
    "username = wait.until(EC.presence_of_element_located((By.NAME,'username'))) ## Searching For Username Input Box\n",
    "username.send_keys('sampleusername') ## Passing The Username \n",
    "password = driver.find_element_by_name('password') ## Searching For Password Box\n",
    "password.send_keys('samplepassword') ## Passing The Password \n",
    "login = driver.find_element_by_class_name('L3NKy') ## Searching For The Login Button\n",
    "login.click() ## Clicking On The Login Button\n",
    "close = wait.until(EC.presence_of_element_located((By.XPATH,'//div/button[contains(@class,\"HoLwm\")]'))) ## Searching for PopUp Exit Button \n",
    "close.click() ## Clicking On The Close Button "
   ]
  },
  {
   "cell_type": "code",
   "execution_count": 4,
   "metadata": {},
   "outputs": [
    {
     "name": "stdout",
     "output_type": "stream",
     "text": [
      "('foodgod', 3599203)\n",
      "('foodinsider', 2181739)\n",
      "('dilsefoodie', 409515)\n",
      "('foodtalkindia', 294246)\n",
      "('food.darzee', 68832)\n"
     ]
    }
   ],
   "source": [
    "a = wait.until(EC.presence_of_element_located((By.XPATH,'//input[contains(@class,\"XTCLo\")]')))  ## Searching For Input Box\n",
    "a.send_keys('food') ## Passing The Required Keys\n",
    "time.sleep(3) ## Waiting For 3ms So That The Contents GEts Loaded \n",
    "handles = driver.find_elements_by_xpath('//div[@class = \"fuqBx\"]/a[\"href\"]') ## Getting The List Of All The Handles After Searching FOr Foods \n",
    "food_list = [] ## Will Be Used To Append The UserNames\n",
    "for i in handles:\n",
    "    if 'explore' in i.get_attribute('href'): ## Ignoring If Explore Is In The href As It Will Either Be Location or Hashtag\n",
    "        continue\n",
    "    else:\n",
    "        s = i.get_attribute('href').split('/') ## https://www.instagram.com/foodtalkindia\n",
    "        if s[3] != 'food' and s[3] != 'foodytops': ## After Split s= ['https:','','www.instagram.com','foodtalkindia']\n",
    "            food_list.append(s[3])             ## Appending The Username To Our List\n",
    "a = wait.until(EC.presence_of_element_located((By.XPATH,'//input[contains(@class,\"XTCLo\")]'))) ## Searching For The Input Box\n",
    "a.clear() ## Clearing The Written In The Input Box\n",
    "a = wait.until(EC.presence_of_element_located((By.CLASS_NAME,'coreSpriteSearchClear'))) ## Clearing Search Box Using Class\n",
    "a.click() ## Clicking On To Clear It\n",
    "new_food_list = food_list[:10] ## Taking Only The Top 10 Handles\n",
    "d = {} \n",
    "for ele in new_food_list: ## Iterating Over Each UserName Of Food List\n",
    "    a = wait.until(EC.presence_of_element_located((By.XPATH,'//input[contains(@class,\"XTCLo\")]'))) ## Searching For The Input Box  \n",
    "    a.send_keys(ele) ## Passing The Required Username To Search Box\n",
    "    first_search = wait.until(EC.presence_of_element_located((By.CLASS_NAME,'z556c'))) ## Searching For The First Profile \n",
    "    first_search.click() ## Clicking On The First Profile\n",
    "    time.sleep(2) ## Waiting For 2ms So That The Page Contents Of The Page Gets Loaded\n",
    "    followers_button = wait.until(EC.presence_of_element_located((By.XPATH,'//a[contains(@class,\"-nal3\")]'))) ## Getting The Followers Button\n",
    "    followers_count = driver.find_elements_by_xpath('//a[contains(@class,\"-nal3\")]/span') ## Getting The Followers Count Button\n",
    "    follow_count = followers_count[0].get_attribute('title') ## Extracting The Only Followers Count\n",
    "    p = follow_count.split(\",\") ## Removing Comma (\",\") From The Number of Counts\n",
    "    ccount = int(\"\".join(p)) ## Joining The List Elements  \n",
    "    d[ele] = ccount ## Adding  The Count In Dictionary And The Keys As Its Username Handle\n",
    "    a = wait.until(EC.presence_of_element_located((By.XPATH,'//input[contains(@class,\"XTCLo\")]'))) ## Searching For The Search Box\n",
    "    a.clear() ## Clearning The Search Box Inputs\n",
    "c = 1 ## This Is To Get Only The Top 5 And The Break From The Loop\n",
    "top_5_blog = [] ## Top 5 Blog List\n",
    "max_follow = [] ## And There Followers Count\n",
    "for i in sorted (d.items(), key = lambda kv: kv[1],reverse = True): ## Sorting The List In Descending Order \n",
    "    top_5_blog.append(i[0],) ## Adding In The List\n",
    "    max_follow.append(i[1]) ## Adding In max_follow for As It Will Be Used Further\n",
    "    print(i)               \n",
    "    c = c + 1\n",
    "    if c > 5: ## Checking If It Reached 5 or Not\n",
    "        break ## exit From Loop If We ahve Top 5"
   ]
  },
  {
   "cell_type": "markdown",
   "metadata": {},
   "source": [
    "## 1.2) Now Find the number of posts these handles have done in the previous 3 days."
   ]
  },
  {
   "cell_type": "code",
   "execution_count": 5,
   "metadata": {},
   "outputs": [
    {
     "name": "stdout",
     "output_type": "stream",
     "text": [
      "foodgod 0\n",
      "foodinsider 3\n",
      "dilsefoodie 5\n",
      "foodtalkindia 2\n",
      "food.darzee 5\n"
     ]
    }
   ],
   "source": [
    "no_of_post = {} ## Dict With Keys As The Username Handle And Va;ues As Count Of No Of Post In Last 3 Days\n",
    "for handle in top_5_blog: ## Iterating Over Eache Username Handle We Stored In Previous Question\n",
    "    search = driver.find_element_by_xpath('//div[contains(@class,\"LWmhU\")]/input') ## Searching For Input Box \n",
    "    search.send_keys(handle) ## Sending The Username Handel To Each Search Box\n",
    "    b = wait.until(EC.presence_of_element_located((By.CLASS_NAME,'z556c'))) ## Getting The First Profile\n",
    "    first_search = driver.find_element_by_class_name('z556c') ## Getting The First Profile After Passing The Handel In The Search Box\n",
    "    first_search.click() ## Clicking On The Fist Handle Got From Search box \n",
    "    count = 0 ## Keeping Is Count To Count The No Of Post In The Last 3 Days\n",
    "    time.sleep(2) ## Waitng For The Page COntent To Load\n",
    "    first_post = wait.until(EC.presence_of_element_located((By.XPATH,'//div[@class=\"_9AhH0\"]'))).click() ## Clicking On The First Post Of The Searched Profile\n",
    "    while True: ## Running Loop To Count All Post In Previous 3 Days\n",
    "        details = wait.until(EC.presence_of_element_located((By.XPATH,'//time[@class=\"_1o9PC Nzb55\"]'))) ## Gettin The details Of Time\n",
    "        t = details.get_attribute('datetime').split('T')[0].split('-') ## Getting (2020-04-27T19:40:34.000Z) Form Date Time Attribute So Spliting It With T And Only Extracting The Date\n",
    "        mydate = date(int(t[0]),int(t[1]),int(t[2])) ## Converting The Date Received In The Date Object\n",
    "        today = date.today() ## Getting Todays Date\n",
    "        if (today - mydate).days < 4: ## Checking Wheather The Days Are Less Than 3 Or Not\n",
    "            count = count + 1 ## If Less Than 3 Then Increasing The Value Of Count By 1\n",
    "            next_btn = wait.until(EC.element_to_be_clickable((By.CLASS_NAME,'coreSpriteRightPaginationArrow'))).click() ## Clicking On The Right Side Arrow Button To Go To The Next Post\n",
    "        else:\n",
    "            break ## As Soon As We Get Days More Than 4 We are Breaking Out Of The Loop. As All The Other Post Will Much Older\n",
    "    no_of_post[handle] = count ## Stroing The Values Received (Count And The Username Handle) In The Dict\n",
    "    close = driver.find_element_by_xpath('//div[@class=\"                   Igw0E     IwRSH      eGOV_         _4EzTm                                                                                  BI4qX            qJPeX            fm1AK   TxciK yiMZG\"]') ## Searching For The Close Button To Close The Post Page Section\n",
    "    close.click() ## Clicking On The Button To Close The Post Section \n",
    "number_of_posts = [] ## No Of Posts List (Required FOr Next Question)\n",
    "handles = [] ## Handle List (Required For next Question)\n",
    "for i in no_of_post:\n",
    "    handles.append(i) ## Apending The Username Which Was Stored As Keys To Handles List\n",
    "    number_of_posts.append(no_of_post[i]) ## Appending The No Of Post (Which Was the Count Value In The Dict) To A List\n",
    "    print(i,no_of_post[i])"
   ]
  },
  {
   "cell_type": "markdown",
   "metadata": {},
   "source": [
    "## 1.3) Depict this information using a suitable graph."
   ]
  },
  {
   "cell_type": "code",
   "execution_count": 6,
   "metadata": {},
   "outputs": [
    {
     "data": {
      "image/png": "[encoded data removed]",
      "text/plain": [
       "<Figure size 432x288 with 1 Axes>"
      ]
     },
     "metadata": {
      "needs_background": "light"
     },
     "output_type": "display_data"
    }
   ],
   "source": [
    "plt.bar(handles,number_of_posts) ## Handles And No Of Posts Received From The Previous Question\n",
    "plt.xticks(rotation = 70)  \n",
    "plt.xlabel('Handles') \n",
    "plt.ylabel('No_of_posts')\n",
    "plt.title('Handles vs No. of Posts')\n",
    "plt.show()"
   ]
  },
  {
   "cell_type": "markdown",
   "metadata": {},
   "source": [
    "## 2) Your friend also needs a list of hashtags that he should use in his posts."
   ]
  },
  {
   "cell_type": "markdown",
   "metadata": {},
   "source": [
    "## 2.1) Open the 5 handles you obtained in the last question, and scrape the content of the first 10 posts of each handle."
   ]
  },
  {
   "cell_type": "code",
   "execution_count": 7,
   "metadata": {},
   "outputs": [
    {
     "name": "stdout",
     "output_type": "stream",
     "text": [
      "foodgod\n",
      "------------------------------\n",
      "***** Post 1*****\n",
      "Should this be a dark, milk, or white chocolate pool??⁣\n",
      "⁣\n",
      "📹@mrhalawa\n",
      "***** Post 2*****\n",
      "Savory or sweet??⁣⁣\n",
      "📹 @umihito.vlog\n",
      "***** Post 3*****\n",
      "I accepted the #ALLINCHALLENGE and I’m giving away $10,000 in food 🍔\n",
      "\n",
      "Click the link in my Bio to enter. I hereby challenge @lala @fatjoe to join us in going ALL IN for those in need!! @allinchallenge\n",
      "***** Post 4*****\n",
      "I built my own gym w/ @vodkabeluga .. who wants one?\n",
      "\n",
      "watch till ending... a surprise🚲🌙\n",
      "***** Post 5*****\n",
      "It was an honor and pleasure to give back to the amazing nurses and doctors of @mountsinaimedicalcenter and @umiamihealth, thank you for everything you’re doing for Miami 🙏🏼 also a special thanks to @adameljamal1 for helping to make all this happen!!\n",
      "***** Post 6*****\n",
      "Comment 🍓 for the UK 🇬🇧 to get better quickly!! Can’t wait to visit soon!\n",
      "***** Post 7*****\n",
      "You are so amazing and your feed is literally goals\n",
      "***** Post 8*****\n",
      "I made something out of nothing!!\n",
      "\n",
      "Use #foodgod in your videos of something out of nothing and I’ll be sharing the best ones on my story!!\n",
      "***** Post 9*****\n",
      "HOTTEST trend while quarantined... Dalgona coffee!!! ⁣⁣\n",
      "⁣⁣\n",
      "Recipe: ⁣\n",
      "2 tbsp of instant coffee⁣⁣\n",
      "2 tbsp of sugar⁣⁣\n",
      "2 tbsp of hot water⁣⁣\n",
      "Whisk if all together until you can creat stiff peaks. Serve over ice and milk of your choosing ⁣\n",
      "⁣\n",
      "⁣\n",
      "📹 @four_cups @edimdoma.ru ⁣⁣\n",
      "🎵 Sweater Weather by @thenbhd\n",
      "***** Post 10*****\n",
      "I can’t wait to see Part 2 tonight on KUWTK\n",
      "foodinsider\n",
      "------------------------------\n",
      "***** Post 1*****\n",
      "Why music videos look like food commercials | The Art of Music\n",
      "\n",
      "We talked to Camera Control owners Jason Rau and Simon Wakley to see how robocams rose to popularity in the music-video scene and director of photography Tyler Weinberger to understand how the robocam is used on set.\n",
      "\n",
      "#robocams #musicvideo #music #video #FoodInsider\n",
      "***** Post 2*****\n",
      "Inside the oldest Irish tavern in NYC | Legendary Eats\n",
      "\n",
      "McSorley's Old Ale House is the oldest Irish pub in America and the most legendary bar in NYC. The 165-year-old watering hole is steeped in history, as seen through the countless old photos and artifacts covering every inch of its hallowed walls.\n",
      "\n",
      "Featuring @spenceralben.\n",
      "\n",
      "#tavern #pub #Irishpub #Irish #FoodInsider\n",
      "***** Post 3*****\n",
      "We ate the most iconic foods in Denver on a $50 budget\n",
      "\n",
      "Grasslands outside of Denver are home to animals like elk, moose, and deer, which make the city known for its specialty meat offerings. Rocky Mountain oysters are among the most popular of them.\n",
      "\n",
      "Featuring @bikerjimsdogs, @avantifandb, and @tarynvee.\n",
      "\n",
      "#Denver #travel #food #iconicfoods #FoodInsider\n",
      "***** Post 4*****\n",
      "Multimillion-dollar restaurant only serves bacon\n",
      "\n",
      "Peter Sherman was trained at the International Culinary Institute and worked at several fine dining restaurants, but in 2014 he left that to start his own business. He opened @bar_bacon that sells bacon everything, from chocolate-covered bacon to bacon-wrapped hot dogs.\n",
      "\n",
      "Featuring @tarynvee.\n",
      "\n",
      "#bacon #barbacon #nyc #nycfoodies #FoodInsider\n",
      "***** Post 5*****\n",
      "Use your favorite brew to bake some homemade beer bread or add your own personal touch to this garlic rosemary herb focaccia. ⁣\n",
      "⁣⁣\n",
      "⁣Click the link in bio for 10 beginner-friendly bread recipes that don't require a sourdough starter. #baking #breadmaking ⁣\n",
      "⁣(Credit: Mark Bittman/ Sally’s Baking Addiction/ Food52)\n",
      "***** Post 6*****\n",
      "The first black woman to own a brewery in the US\n",
      "\n",
      "Celeste Beatty is the first African American woman to own a craft brewery in the United States. @harlembrewery was founded in 2000 and is one of the few black-owned microbreweries in the US. We visited Celeste in her \"brewdio,\" and she showed us how she brews at home.\n",
      "\n",
      "#beer #brewery #US #Harlem #FoodInsider\n",
      "***** Post 7*****\n",
      "The best pepperoni pizza in NYC | Best In Town\n",
      "\n",
      "Best in Town (formerly known as Best of the Best) is BACK for a limited-run season 3. In this episode, @rinnny_ and @spriinkles search New York City to find the best pepperoni pizza.\n",
      "\n",
      "Featuring: @psp_nyc @rubirosa_nyc and @pizzalovesemily\n",
      "\n",
      "#pizza #pepperoni #NYC #food #FoodInsider\n",
      "***** Post 8*****\n",
      "The best way to upgrade boxed macaroni and cheese | Best At Home\n",
      "\n",
      "Boxed macaroni and cheese is a beloved pantry staple. Insider’s @rinnny_ is home with a lot of time on her hands, so she explores three different methods to dress it up.\n",
      "\n",
      "#macncheese #cheese #cooking #food #FoodInsider\n",
      "***** Post 9*****\n",
      "Best in Town is back! In this episode, @rinnny_ and @spriinkles search New York City to find the best pepperoni pizza. Click the link in bio to see which pizza was their favorite. 🍕 #pizza #pepperonipizza #bestintown #nyeats\n",
      "\n",
      "Featuring: @psp_nyc @rubirosa_nyc and @pizzalovesemily\n",
      "\n",
      "Editor’s Note: Insider visited these restaurants in December 2019. The restaurants are all currently closed to dine-in service due to the ongoing pandemic, but have various takeout and delivery options.\n",
      "***** Post 10*****\n",
      "The world's best parmesan makers are banding together\n",
      "\n",
      "Parmesan cheese comes from one specific region of Italy called Emilia Romagna, which was hit particularly hard by the coronavirus. This put the parmesan cheese industry right at the center of the current crisis.\n",
      "\n",
      "#parmesan #cheese #parmesancheese #Italy #FoodInsider\n",
      "dilsefoodie\n",
      "------------------------------\n",
      "***** Post 1*****\n",
      "Anda Bhurji Recipe (Scrambled Eggs)\n",
      "\n",
      "Tag Scrambled Egg Lover Here\n",
      "#dilsefoodie #food #egg #scrambledeggs #easycookingwithdilsefoodie\n",
      "***** Post 2*****\n",
      "Breakfast At Shera Poori Wala, Amritsar.\n",
      "Exact Location - It's Just Opposite Tara Chand Paneer Bhurji, Telephone Exchange, Amritsar.\n",
      ".\n",
      ".\n",
      "Have You Been To This Place ?\n",
      "Craving Ho Rahi Hai ?\n",
      "#dilsefoodie #poorichole\n",
      "***** Post 3*****\n",
      "Cheese Garlic Bread Omelette\n",
      "\n",
      "Ye To Bas Aise He Bana Diya 🙄\n",
      "#dilsefoodie #easycookingwithdilsefoodie\n",
      "***** Post 4*****\n",
      "2 Big Loss In 2days\n",
      "This is really very very sad.\n",
      "2020 is going to the worst year of mylife.\n",
      "Rest In Peace - Rishi Kapoor & Irfan Khan 🙏\n",
      "#missyou #restinpeace #bollywood #actor\n",
      "#dilsefoodie\n",
      "***** Post 5*****\n",
      "Navratan Maggi Masala\n",
      "\n",
      "Easy Cooking With Dilsefoodie\n",
      "#dilsefoodie #Maggi\n",
      "***** Post 6*****\n",
      "Khaya Hai Kabhi Aise Aloo Poori Ko ♥️.\n",
      "Bhaiyo Feel Aajati Hai Aloo Poori Ki.\n",
      "Karari Poori Ke Uper Garma Garam Hing Wale Aloo Damn Sexy 😍. Jaldi Se Aloo Poori Lovers Ko Tag Karo\n",
      "#dilsefoodie #food\n",
      "***** Post 7*****\n",
      "The Famous Matka Roti From Taj Matka Roti, Nagpur\n",
      "\n",
      "Amazing Skills Hats Off To This Man.\n",
      "#dilsefoodie #nagpur\n",
      "***** Post 8*****\n",
      "Restaurant Style Palak Paneer\n",
      "\n",
      "Easy Cooking With Dilsefoodie\n",
      "#dilsefoodie #PalakPaneer\n",
      "***** Post 9*****\n",
      "Bazaari Chole Kulche At Home\n",
      "\n",
      "Easy Cooking With Dilsefoodie\n",
      "#dilsefoodie #CholeKulche\n",
      "***** Post 10*****\n",
      "The Spiciest Saoji Food We Had In Nagpur\n",
      "Rahi Saoji Restaurant 😬. Bhai Ansu Nikal Diye @parthbajaj And @gastronomicjournal Ne Yaha 😂😂\n",
      ".\n",
      ".\n",
      "Tag That Friend Who Can Eat Spicy Food\n",
      "#dilsefoodie #nagpurfood\n",
      "foodtalkindia\n",
      "------------------------------\n",
      "***** Post 1*****\n",
      "🍌 🤦🏼‍♂️\n",
      "***** Post 2*****\n",
      "Basil and Chicken krapaw\n",
      "\n",
      "In the Kitchen with Chef @themanbunchef from @deardonnaqutub\n",
      "A classic Thai dish, it’s flavourful, easy to make and will become one of your favourite quick dinners!\n",
      "Chicken thigh 500g\n",
      "Roughly chop the thighs with a knife until it is coarse. Can also use sliced chicken thighs.\n",
      "Herbs and spices:\n",
      "Fresh red chilli 3no.\n",
      "Green chilli 2 no.\n",
      "Garlic crushed 10cloves\n",
      "Basil leaves handful\n",
      "For the sauce:\n",
      "Fish sauce few drops(optional)\n",
      "Oyster sauce 3tbsp\n",
      "Dark soy sauce 1 1/2 tsp\n",
      "Sugar pinch\n",
      "White pepper pinch\n",
      "\n",
      "For the krapaw:\n",
      "Roughly crush the garlic and fresh red chilli in a mortar and pestle.\n",
      "1.In a pan heat oil, add the crushed garlic and chilli, sweat it for a minute.\n",
      "2.Add the chopped chicken, cook on high heat.\n",
      "3.once the chicken is cooked, add a good dash of oyster Sauce, dark soy sauce, fish sauce, sugar, salt if required.\n",
      "4.Cook further for 5 mins on low heat and with a lid on.\n",
      "5.When the chicken is cooked through throw in fresh basil, stir one last time, check seasoning.\n",
      "Pour over steamed rice, add a fried egg on top or eat as is.\n",
      "***** Post 3*****\n",
      "Are you:\n",
      "• A restaurateur?\n",
      "• A food entrepreneur?\n",
      "• A caterer?\n",
      "• A real estate owner?\n",
      "\n",
      "If your answer to any of the above is YES, you need to meet @smartkitchencompany , Delhi- NCR’s leading cloud kitchen company that is en route to revolutionising the online food business.\n",
      "\n",
      "Smart Kitchen Company provides ready-to-move-in kitchen infrastructure with state-of-the-\n",
      "art equipment, and marketing support to food companies who are driven to establish and grow their footprint in the online food business. It offers food companies the opportunity to launch their food\n",
      "brand or expand existing operations with low investment and high returns.\n",
      "SKC is identifying visionary foodpreneurs for whom they will make marketing investments to boost their business. If you have an entrepreneurial appetite, Smart Kitchen Company is the right fit to fuel your culinary fire!\n",
      "***** Post 4*****\n",
      "Joey doesn’t share his food but you can share your cravings!\n",
      "***** Post 5*****\n",
      "#QuaranTipple | Whiskey Sour\n",
      "\n",
      "We have here for you another one of our favourite cocktails- a Whisky Sour. Perfectly balanced and super easy to make at home with just a few simple ingredients. Join us in making this lovely cocktail with our co-founder @shuchirsuri.\n",
      "And in case you happen to down one too many of these, be sure to end your night with @morningfreshind and spare yourself that hangover {you can thank us later}!\n",
      "***** Post 6*****\n",
      "#TalkDrinks #HomeBar\n",
      "\n",
      "For the folks who enjoy entertaining!\n",
      "\n",
      "So you have a well stocked bar? Level up your home bar by stocking these handy bar essentials.\n",
      "Ready to mix the most elaborate cocktails? Watch out for our #Qauarantipples posts and highlights.\n",
      "***** Post 7*****\n",
      "Scones with berry jam\n",
      "\n",
      "In the Kitchen with @eeshaankas\n",
      "The old scone debate - do you put the jam or cream first? .\n",
      "We did a bit of research and got to know how  the British eat their scones and apparently, Devonians (those from Devon) enjoy their scones with cream on the bottom and jam on the top, while their neighbours the Cornish (those from Cornwall) enjoy their scones with jam first and then cream on top.\n",
      ".\n",
      "The Queen of England apparently has her with jam first followed by cream!\n",
      "At the end of the day.. It is all a matter of preference and what you are used to – the choice is yours.\n",
      "Recipe - Scones with berry jam\n",
      "Prep Time - 10 mins \n",
      "Baking Time - 15 mins\n",
      "Service - 5 mins \n",
      "Meal Period - Tea time\n",
      "Ingredients Required \n",
      "Refined flour - 250 gms\n",
      "Baking Powder - 12 gms\n",
      "Castor Sugar - 50 gms\n",
      "Whole Egg - 1 no.\n",
      "Milk - 115 ml\n",
      "Cinnamon powder - 5 gms\n",
      "Soft butter - 75 gms\n",
      "\n",
      "Method for Scones \n",
      "1. Mix all the dry ingredients first & then add soft butter, milk & whole egg. \n",
      "2. Mix the entire mixture to form a dough. Rest for 10 mins in a cool place. In the meantime preheat the oven at 180 degrees. \n",
      "3. Gently knead the dough into a sheet which is 1-inch thick. With a help of a round small /large cutter, scoop out gently the scones. This recipe will yield 10 pieces. \n",
      "4. Places the round discs of scones on a baking tray & place in the preheated oven for 12 mins. Once the scones get a toasty brown colour, take them out & sprinkle some icing sugar on the top. This is caramelised on the top. Let the tray with scone rest for 10 mins before service. \n",
      "5. Serve with clotted cream or jam or any sweetened preserve.\n",
      "***** Post 8*****\n",
      "Yes! John 2:8 . But your faith has to be like Jesus\n",
      "***** Post 9*****\n",
      "Kick your immunity system into high gear with these 5 nutrient rich foods. #Stayhome #StayFit!\n",
      "***** Post 10*****\n",
      "Don’t be ashamed, share the snacks you hoarded\n",
      "food.darzee\n",
      "------------------------------\n",
      "***** Post 1*****\n",
      "Tareef Alert!!!!\n",
      ".\n",
      "We don't just deliver meals, we deliver solutions to your worries and stress.\n",
      ".\n",
      ".\n",
      ".\n",
      ".\n",
      ".\n",
      ".\n",
      "#happycustomer #fooddarzee #bakeddarzee #healthymeals #recipes #foodporn #cooking #recipe #yummy #healthyfood #delicious #homemade #sugarfree #foodphotography #tasty #healthy #foodstagram #foodlover #homecooking #healthylifestyle #healthyrecipes #chef #easyrecipes #recipe #keto #lowcarb #quarantineandchill #stayhome #staysafe #dietmeals #mealdelivery\n",
      "***** Post 2*****\n",
      "(less spoken of) Health Avengers (From L to R) Om Prakash Pandey, Joseph Gomes, Naseem Khan\n",
      "\n",
      "Part of the @food.darzee team has been working day in and day out to ensure people are being fed with #healthy and #hygienic food everyday. They have stationed themselves at the Food Darzee kitchens in Mumbai , Bangalore and Delhi away from their families because they understand that the safety of food cannot be compromised upon. Om Prakash is 19 and even at such a young age understands why being quarantined at the kitchen is important to the safety of himself, his family and the countless others that Food Darzee is serving.\n",
      "We at Food Darzee are the only health food company that has managed to remain operational despite all odds and painstakingly deliver healthy, hygienic and safe food every single day to all our patrons. Doctors , policemen, bachelors, even entire families are dependent on us for their food and it’s only because of these Health #Avengers , that its possible for us to continue helping the society. .\n",
      "\n",
      "Chef Naseem Khan ( Bakery Executive Chef ) says, “ Family se dur rehrahe hain taaki jo log apni apni family se dur hain , hum unki madad kar sakein. Untak healthy food pahuncha paye. Yeh time humaara hai ki hum ek jut hokar logon ki help help karein. Hum doctors ya policevaale nahi hain but hun unhe healthy rakhne ki zimmedaari lerahe hain.\" .\n",
      "\n",
      "This post is to honour all those people working in the essential services and to extend our support to them since they are going to have to continue doing this for a couple more weeks.\n",
      "#fooddarzee #labourday2020 #labourday #maharashtraday #lockdown #covidwarriors #homecooking #quarantinelife #quarantineandchill #covidwarriors #foodstagram #qurentinedays #homequarantine #qurantinedays #quarantinetimes #healthyliving #fightagainstcorona #coronaheroes #stayhome #staysafe\n",
      "***** Post 3*****\n",
      "Butter Chicken | Jeera Rice | Dal Makhni *Chicken*\n",
      "Chicken Breast 60 gms\n",
      "Oil 4 gms *Makhini Gravy*\n",
      "Tomato 50 gms\n",
      "Cashew 2.5 gms\n",
      "Butter 2 gms\n",
      "Ginger 1.5 gms\n",
      "Garlic 1.5 gms\n",
      "Kashmiri Chillies 0.5 gms\n",
      "Kasturi Methi A pinch\n",
      "Cinnamon 0.13\n",
      "Green Cardamom 0.13\n",
      "Salt As per taste\n",
      "Amul Fresh Cream 4 gms\n",
      "Ketchup 2 gms *Dal Makhini*\n",
      "Black Urad Dal 10 gms\n",
      "Chana Dal 10 gms\n",
      "Rajma 5 gms\n",
      "Butter 2 gms\n",
      "Tomato 20 gms\n",
      "Onion 15 gms\n",
      "Ginger 1 gm\n",
      "Garlic 1 gm\n",
      "Kashmiri Chilles 0.5 gms\n",
      "Kasturi Methi A pinch\n",
      "Cumin Seeds  0.16 gms\n",
      "Cinnamon 0.16 gms\n",
      "Cardamon 0.16 gms\n",
      "Salt As per taste\n",
      "Amul Fresh Cream 4 gms *Pyaaz Pulao*\n",
      "Onions 20 gms\n",
      "Brown rice, raw 15 gms\n",
      "Oil 0.5 gms\n",
      "Coriander Leaves 2-3\n",
      "Chaat Masala As per taste\n",
      "Salt As per taste\n",
      "Cumin Seeds 0.25 gms *Dal Makhini*\n",
      "Use Black Urad, Rajma & Chana Dal\n",
      "Mix all 3 & wash at least 8-10 times in running cold water till water becomes transparent. Soak for a minimum of 8 hrs.\n",
      "Cook the mixture in a pressure cooker till soft\n",
      "Heat oil in a pot with the whole spices. When it sputters add chopped onion and saute till golden brown. Add ginger-garlic paste & saute till cooked\n",
      "Add pulverized tomato puree & cook over low heat till oil begins to separate.\n",
      "Add the boiled dal to it & mix well. Bring it to a boil, add water as required & simmer dal over low heat till it's creamy in texture.\n",
      "Check for seasoning & adjust as required. Flavor with kasoori methi powder.\n",
      "Heat the dal. Add butter and cream. Stir well. Adjust seasoning & consistency. Heat thru. *Makhini Gravy*\n",
      "Boil the cashews.grind to a fine paste\n",
      "Cut tomatoes in 4 pcs, Slit Green Chilly, Chopped Garlic and deseeded Kashmiri Chilly and boil it water\n",
      "Add Bayleaf, green cardamom and Star Phool. Cook the mixture till tomato is cooked well\n",
      "Once the Mixure is Cooked,  Cool it and Blend it into a smooth paste.\n",
      "Heat Butter in a Vessel, add garlic and saute till golden\n",
      "Add cashew paste and tomato paste and stir it occasionally till cooked well\n",
      "Add ketchup and Kasuri Methi to Stir it for few Seconds.\n",
      "Season with salt.\n",
      "Add cooked chicken . Finish with cream. *Pyaaz Pulao*\n",
      "Boil the rice\n",
      "Add oil to the pan.\n",
      "Add the cumin seeds and onions and saute.\n",
      "Once the onions turn brown, add rice and saute.\n",
      "***** Post 4*****\n",
      "Introducing Healthy Bread Subscriptions from Baked Darzee\n",
      "\n",
      "Get healthy breads which are high in protein, low in carbs and keto friendly delivered to your doorstep every week.\n",
      "\n",
      "Now you don't have to rush to the stores to get your regular breads, get them delivered in this lockdown and #staysafe\n",
      ".\n",
      ".\n",
      ".\n",
      ".\n",
      "#fooddarzee #bakeddarzee #ketobreads #healthybread #breads #cakes #healthydesserts #healthybakery #healthybread #glutenfree #sugarfree #sugarfreedesser #homedelivery #stayhome #staysafe #quarantinelife #quarantineandchill #lockdown #stayhome #staysafe\n",
      "***** Post 5*****\n",
      "Keto | Low Carb | Vegan | Flexible\n",
      "Hello Mumbai !\n",
      "Now get 4 tasty and healthy meals delivered daily at your doorstep safely.\n",
      "\n",
      "Find the key to your health in this lockdown - fooddarzee.com\n",
      ".\n",
      ".\n",
      ".\n",
      "#fooddarzee #ketomeals #lowcarbmeals #veganmeals #healthyeating #healthyfood #homedelivery #healthylifestyle #dietitiansofinstagram #quaratineandchill #lockdownlife #lockdown #lockdowncooking #fitnessmotivation #fitnessjourney #stayhome #staysafe #eathealthy #mumbaifoodie #mumbaifoodblogger #healthymeals #foodie #foodstagram\n",
      "***** Post 6*****\n",
      "#happycustomer\n",
      "The world might be on pause but we aren't\n",
      "Delivering healthy and tasty meals at your doorstep safely\n",
      ".\n",
      ".\n",
      ".\n",
      ".\n",
      ".\n",
      "#fooddarzee #lockdown #quarantinelife\n",
      "#healthyeating #quarantineandchill #healthyfood #healthyliving #lockdowndiaries #happycustomers #stayhome #staysafe #eathealthy #foodstagram #dietitiansofinstagram #tastyandhealthy #deliveringhappiness #healthgoals\n",
      "***** Post 7*****\n",
      "📯SOUND ON\n",
      "\n",
      "What's your workout routine?\n",
      ".\n",
      ".\n",
      ".\n",
      ".\n",
      ".\n",
      "#coronamemes #lockdown #covid #covi̇d19 #lockdownmemes #homecooking #quarantinelife #quarantineandchill #memesdaily #memeoftheday #foodstagram #qurentinedays #homequarantine #qurantinedays #quarantime #quarantinetimes #instagood #social #workoutfromhome #exercisememes #workoutmemes\n",
      "***** Post 8*****\n",
      "Food Darzee is a health and nutrition company and as a team who is responsible to provide everyone with healthy meals, we make sure all the vegetables are washed and sanitized properly.\n",
      "\n",
      "This has been our standard protocol since the beginning, be it pre-covid spread or post. We are here to help you stay fit and eat healthy so your safety is also our top priority.\n",
      ".\n",
      ".\n",
      ".\n",
      "#fooddarzee #coronawarriors #covid19 #covid19india #covidheroes #lockdowndiaries #lockdown #quarantinelife #coronavid19 #indiaagainstcovid19 #fightcoronavirus💪 #stayhome #staysafe #healthyfood #deliveryservice #essentialworkers #essentialemployee #coronasafety #washyourhands #safetyfirst#contactlessdelivery#sanitize\n",
      "***** Post 9*****\n",
      "Hello Mumbaikars!\n",
      "Baked Darzee is back to deliver you those tasty and healthy desserts right at your doorstep.\n",
      "Order breads, brownies, cookies, popcorns, fudge and many more bakery products\n",
      "\n",
      "Order now from Bakeddarzee.com\n",
      ".\n",
      ".\n",
      ".\n",
      ".\n",
      "#fooddarzee #bakeddarzee #ketocookies #ketobrownies #breads #cakes #healthydesserts #healthybakery #healthybread #glutenfree #sugarfree #sugarfreedessert #mumbaifoodbloggers #mumbaifoodie #healthypopcorn #homedelivery #styyhome #staysafe\n",
      "***** Post 10*****\n",
      "Support our heroes with 💪🏼 in the comments\n",
      "Saluting all the warriors who ensure you get to eat tasty and healthy while you follow the lockdown and stay safe at home.\n",
      "We are proud of them .\n",
      ".\n",
      ".\n",
      "#coronawarriors #covid19 #covid19india #covidheroes #lockdowndiaries #lockdown #quarantinelife #coronavid19 #indiaagainstcovid19 #fightcoronavirus💪 #stayhome #staysafe #healthyfood #deliveryservice #essentialworkers #essentialemployee\n"
     ]
    }
   ],
   "source": [
    "top_5_handles = {} ## Dict For Storing Post Scrape Details (Keys will be Username ANd Its Values Will Be A List With Its Values As First 10 Post Details)\n",
    "for handle in top_5_blog: ## Iterating Over Eache Username Handle We Stored In Previous Question\n",
    "    search = driver.find_element_by_xpath('//div[contains(@class,\"LWmhU\")]/input') ## Searching For The Input box\n",
    "    search.send_keys(handle) ## Passing The Handle In The Search Box\n",
    "    b = wait.until(EC.presence_of_element_located((By.CLASS_NAME,'z556c'))) ## Getting The First Profile\n",
    "    first_search = driver.find_element_by_class_name('z556c') ## Getting the First profile\n",
    "    first_search.click() ## Clicking On The First Profile\n",
    "    first_10_post = [] ## Stroing The Details Of First 10 Post \n",
    "    time.sleep(2) ## Waiting For The Content Of The Paeg To Get Loaded\n",
    "    first_post = wait.until(EC.presence_of_element_located((By.XPATH,'//div[@class=\"_9AhH0\"]'))).click() ## Clicking On The First Post Of The Searched Profile \n",
    "    i = 1 ## Keeping The Count As We Only Need The Deatils Of The 10 Posts \n",
    "    while i < 11:\n",
    "        details = wait.until(EC.presence_of_element_located((By.XPATH,'//div[@class=\"C4VMK\"]/span'))).text ## Getting The First Writting On The Captions\n",
    "        first_10_post.append(details) ## Appending The Text Received To The List\n",
    "        next_btn = wait.until(EC.element_to_be_clickable((By.CLASS_NAME,'coreSpriteRightPaginationArrow'))).click() ## Clicking On The Right Side Arrow Button To Go To The Next Post\n",
    "        i = i + 1 ## Increasing The Count As we only Need 10 Post\n",
    "    top_5_handles[handle] = first_10_post ## Adding The Information To The Dict Keys as Username And Value As List Conataning Details Of First 10 Posts\n",
    "    close = driver.find_element_by_xpath('//div[@class=\"                   Igw0E     IwRSH      eGOV_         _4EzTm                                                                                  BI4qX            qJPeX            fm1AK   TxciK yiMZG\"]') ## Searching For The Close Button To Close The Post Page Section\n",
    "    close.click() ## Clicking On The Button To Close The Post Section  \n",
    "for i in top_5_handles: ## Printing The Post Deatils For Each Handle\n",
    "    print(i) ## Printing The Handle Name\n",
    "    print(\"------------------------------\") \n",
    "    l = top_5_handles[i] ## Storing The Value Of The Handle i.e To A List \n",
    "    j = 0 \n",
    "    k = 1 ## Using This To Number The Post While Printing\n",
    "    while j < 10:\n",
    "        print(\"***** Post \" + str(k) + \"*****\") ## Printing THe Post With Its Corresponding Number\n",
    "        print(l[j])\n",
    "        k = k + 1\n",
    "        j = j + 1              "
   ]
  },
  {
   "cell_type": "markdown",
   "metadata": {},
   "source": [
    "## 2.2) Prepare a list of all words used in all the scraped posts and calculate the frequency of each word"
   ]
  },
  {
   "cell_type": "code",
   "execution_count": 8,
   "metadata": {},
   "outputs": [
    {
     "name": "stdout",
     "output_type": "stream",
     "text": [
      "{'ALLINCHALLENGE': 1, 'foodgod': 1, 'robocams': 1, 'musicvideo': 1, 'music': 1, 'video': 1, 'FoodInsider': 8, 'tavern': 1, 'pub': 1, 'Irishpub': 1, 'Irish': 1, 'Denver': 1, 'travel': 1, 'food': 5, 'iconicfoods': 1, 'bacon': 1, 'barbacon': 1, 'nyc': 1, 'nycfoodies': 1, 'baking': 1, 'breadmaking': 1, 'beer': 1, 'brewery': 1, 'US': 1, 'Harlem': 1, 'pizza': 2, 'pepperoni': 1, 'NYC': 1, 'macncheese': 1, 'cheese': 2, 'cooking': 2, 'pepperonipizza': 1, 'bestintown': 1, 'nyeats': 1, 'parmesan': 1, 'parmesancheese': 1, 'Italy': 1, 'dilsefoodie': 10, 'egg': 1, 'scrambledeggs': 1, 'easycookingwithdilsefoodie': 2, 'poorichole': 1, 'missyou': 1, 'restinpeace': 1, 'bollywood': 1, 'actor': 1, 'Maggi': 1, 'nagpur': 1, 'PalakPaneer': 1, 'CholeKulche': 1, 'nagpurfood': 1, 'QuaranTipple': 1, 'TalkDrinks': 1, 'HomeBar': 1, 'Qauarantipples': 1, 'Stayhome': 1, 'StayFit!': 1, 'happycustomer': 2, 'fooddarzee': 7, 'bakeddarzee': 3, 'healthymeals': 2, 'recipes': 1, 'foodporn': 1, 'recipe': 2, 'yummy': 1, 'healthyfood': 5, 'delicious': 1, 'homemade': 1, 'sugarfree': 3, 'foodphotography': 1, 'tasty': 1, 'healthy': 2, 'foodstagram': 5, 'foodlover': 1, 'homecooking': 3, 'healthylifestyle': 2, 'healthyrecipes': 1, 'chef': 1, 'easyrecipes': 1, 'keto': 1, 'lowcarb': 1, 'quarantineandchill': 5, 'stayhome': 8, 'staysafe': 10, 'dietmeals': 1, 'mealdelivery': 1, 'hygienic': 1, 'Avengers': 1, 'labourday2020': 1, 'labourday': 1, 'maharashtraday': 1, 'lockdown': 7, 'covidwarriors': 2, 'quarantinelife': 6, 'qurentinedays': 2, 'homequarantine': 2, 'qurantinedays': 2, 'quarantinetimes': 2, 'healthyliving': 2, 'fightagainstcorona': 1, 'coronaheroes': 1, 'ketobreads': 1, 'healthybread': 3, 'breads': 2, 'cakes': 2, 'healthydesserts': 2, 'healthybakery': 2, 'glutenfree': 2, 'sugarfreedesser': 1, 'homedelivery': 3, 'ketomeals': 1, 'lowcarbmeals': 1, 'veganmeals': 1, 'healthyeating': 2, 'dietitiansofinstagram': 2, 'quaratineandchill': 1, 'lockdownlife': 1, 'lockdowncooking': 1, 'fitnessmotivation': 1, 'fitnessjourney': 1, 'eathealthy': 2, 'mumbaifoodie': 2, 'mumbaifoodblogger': 1, 'foodie': 1, 'lockdowndiaries': 3, 'happycustomers': 1, 'tastyandhealthy': 1, 'deliveringhappiness': 1, 'healthgoals': 1, 'coronamemes': 1, 'covid': 1, 'covi̇d19': 1, 'lockdownmemes': 1, 'memesdaily': 1, 'memeoftheday': 1, 'quarantime': 1, 'instagood': 1, 'social': 1, 'workoutfromhome': 1, 'exercisememes': 1, 'workoutmemes': 1, 'coronawarriors': 2, 'covid19': 2, 'covid19india': 2, 'covidheroes': 2, 'coronavid19': 2, 'indiaagainstcovid19': 2, 'fightcoronavirus💪': 2, 'deliveryservice': 2, 'essentialworkers': 2, 'essentialemployee': 2, 'coronasafety': 1, 'washyourhands': 1, 'safetyfirst#contactlessdelivery#sanitize': 1, 'ketocookies': 1, 'ketobrownies': 1, 'sugarfreedessert': 1, 'mumbaifoodbloggers': 1, 'healthypopcorn': 1, 'styyhome': 1}\n",
      "\n",
      "['ALLINCHALLENGE', 'foodgod', 'robocams', 'musicvideo', 'music', 'video', 'FoodInsider', 'tavern', 'pub', 'Irishpub', 'Irish', 'FoodInsider', 'Denver', 'travel', 'food', 'iconicfoods', 'FoodInsider', 'bacon', 'barbacon', 'nyc', 'nycfoodies', 'FoodInsider', 'baking', 'breadmaking', 'beer', 'brewery', 'US', 'Harlem', 'FoodInsider', 'pizza', 'pepperoni', 'NYC', 'food', 'FoodInsider', 'macncheese', 'cheese', 'cooking', 'food', 'FoodInsider', 'pizza', 'pepperonipizza', 'bestintown', 'nyeats', 'parmesan', 'cheese', 'parmesancheese', 'Italy', 'FoodInsider', 'dilsefoodie', 'food', 'egg', 'scrambledeggs', 'easycookingwithdilsefoodie', 'dilsefoodie', 'poorichole', 'dilsefoodie', 'easycookingwithdilsefoodie', 'missyou', 'restinpeace', 'bollywood', 'actor', 'dilsefoodie', 'dilsefoodie', 'Maggi', 'dilsefoodie', 'food', 'dilsefoodie', 'nagpur', 'dilsefoodie', 'PalakPaneer', 'dilsefoodie', 'CholeKulche', 'dilsefoodie', 'nagpurfood', 'QuaranTipple', 'TalkDrinks', 'HomeBar', 'Qauarantipples', 'Stayhome', 'StayFit!', 'happycustomer', 'fooddarzee', 'bakeddarzee', 'healthymeals', 'recipes', 'foodporn', 'cooking', 'recipe', 'yummy', 'healthyfood', 'delicious', 'homemade', 'sugarfree', 'foodphotography', 'tasty', 'healthy', 'foodstagram', 'foodlover', 'homecooking', 'healthylifestyle', 'healthyrecipes', 'chef', 'easyrecipes', 'recipe', 'keto', 'lowcarb', 'quarantineandchill', 'stayhome', 'staysafe', 'dietmeals', 'mealdelivery', 'healthy', 'hygienic', 'Avengers', 'fooddarzee', 'labourday2020', 'labourday', 'maharashtraday', 'lockdown', 'covidwarriors', 'homecooking', 'quarantinelife', 'quarantineandchill', 'covidwarriors', 'foodstagram', 'qurentinedays', 'homequarantine', 'qurantinedays', 'quarantinetimes', 'healthyliving', 'fightagainstcorona', 'coronaheroes', 'stayhome', 'staysafe', 'staysafe', 'fooddarzee', 'bakeddarzee', 'ketobreads', 'healthybread', 'breads', 'cakes', 'healthydesserts', 'healthybakery', 'healthybread', 'glutenfree', 'sugarfree', 'sugarfreedesser', 'homedelivery', 'stayhome', 'staysafe', 'quarantinelife', 'quarantineandchill', 'lockdown', 'stayhome', 'staysafe', 'fooddarzee', 'ketomeals', 'lowcarbmeals', 'veganmeals', 'healthyeating', 'healthyfood', 'homedelivery', 'healthylifestyle', 'dietitiansofinstagram', 'quaratineandchill', 'lockdownlife', 'lockdown', 'lockdowncooking', 'fitnessmotivation', 'fitnessjourney', 'stayhome', 'staysafe', 'eathealthy', 'mumbaifoodie', 'mumbaifoodblogger', 'healthymeals', 'foodie', 'foodstagram', 'happycustomer', 'fooddarzee', 'lockdown', 'quarantinelife', 'healthyeating', 'quarantineandchill', 'healthyfood', 'healthyliving', 'lockdowndiaries', 'happycustomers', 'stayhome', 'staysafe', 'eathealthy', 'foodstagram', 'dietitiansofinstagram', 'tastyandhealthy', 'deliveringhappiness', 'healthgoals', 'coronamemes', 'lockdown', 'covid', 'covi̇d19', 'lockdownmemes', 'homecooking', 'quarantinelife', 'quarantineandchill', 'memesdaily', 'memeoftheday', 'foodstagram', 'qurentinedays', 'homequarantine', 'qurantinedays', 'quarantime', 'quarantinetimes', 'instagood', 'social', 'workoutfromhome', 'exercisememes', 'workoutmemes', 'fooddarzee', 'coronawarriors', 'covid19', 'covid19india', 'covidheroes', 'lockdowndiaries', 'lockdown', 'quarantinelife', 'coronavid19', 'indiaagainstcovid19', 'fightcoronavirus💪', 'stayhome', 'staysafe', 'healthyfood', 'deliveryservice', 'essentialworkers', 'essentialemployee', 'coronasafety', 'washyourhands', 'safetyfirst#contactlessdelivery#sanitize', 'fooddarzee', 'bakeddarzee', 'ketocookies', 'ketobrownies', 'breads', 'cakes', 'healthydesserts', 'healthybakery', 'healthybread', 'glutenfree', 'sugarfree', 'sugarfreedessert', 'mumbaifoodbloggers', 'mumbaifoodie', 'healthypopcorn', 'homedelivery', 'styyhome', 'staysafe', 'coronawarriors', 'covid19', 'covid19india', 'covidheroes', 'lockdowndiaries', 'lockdown', 'quarantinelife', 'coronavid19', 'indiaagainstcovid19', 'fightcoronavirus💪', 'stayhome', 'staysafe', 'healthyfood', 'deliveryservice', 'essentialworkers', 'essentialemployee']\n"
     ]
    }
   ],
   "source": [
    "totalFreq = {} ## Dict To Calculate The Frequency of Each Hashtags Present in The Content That Has Been Scrapeed From The Last Question\n",
    "all_words = [] ## List To Store All The Words \n",
    "for i in top_5_handles: ## Iterating Through The Dict\n",
    "    l = top_5_handles[i] ## Fetching The Value Of Each Key\n",
    "    for j in l: ## Iterating Throug Each List (The Values Are The Contents Of First 10 Posts Of Each Handles)\n",
    "        string = j.split() ## Spliting Each String Which Is Contents Of each Single Post With Spaces\n",
    "        for k in string: ## Now Iterating Over Each Words In The Lsit Created By Spliting\n",
    "            if k[0] == '#': ## Checking If The First Character Of Words Begin With Hashtags\n",
    "                val = k[1:] ## If Above Condition True Then Fetching The Words Removing The Hashtags\n",
    "                all_words.append(val) ## Appending The Data To The List Of All Words\n",
    "                if val in totalFreq: ## Now Adding All Th Words To Dict \n",
    "                    totalFreq[val] = totalFreq[val] + 1\n",
    "                else:\n",
    "                    totalFreq[val] = 1\n",
    "        \n",
    "print(totalFreq) ## Dict Keys As The Words And Values As Its Frequency\n",
    "print()\n",
    "print(all_words)"
   ]
  },
  {
   "cell_type": "markdown",
   "metadata": {},
   "source": [
    "## 2.3) Create a csv file with two columns : the word and its frequency"
   ]
  },
  {
   "cell_type": "code",
   "execution_count": 9,
   "metadata": {},
   "outputs": [
    {
     "name": "stdout",
     "output_type": "stream",
     "text": [
      "                   Word Frequency\n",
      "0        ALLINCHALLENGE         1\n",
      "1               foodgod         1\n",
      "2              robocams         1\n",
      "3            musicvideo         1\n",
      "4                 music         1\n",
      "..                  ...       ...\n",
      "155        ketobrownies         1\n",
      "156    sugarfreedessert         1\n",
      "157  mumbaifoodbloggers         1\n",
      "158      healthypopcorn         1\n",
      "159            styyhome         1\n",
      "\n",
      "[160 rows x 2 columns]\n"
     ]
    }
   ],
   "source": [
    "lili = [] ## Creating A 2D List\n",
    "for i in totalFreq: ## Iterating Over The Dict\n",
    "    s = [] \n",
    "    s.append(i) ## Appending The Key To The List (Ex ['ALLINCHALLENGE'])\n",
    "    s.append(totalFreq[i]) ## Appending The Value of Key To The Same List (Ex ['ALLINCHALLENGE',1])\n",
    "    lili.append(s) ## Appending The List In Another List Hence Creating A 2D List (Ex [['ALLINCHALLENGE',1]])\n",
    "final_data=np.array(lili) ## Converting The 2D List Into Numpy Array\n",
    "dataset = pd.DataFrame({'Word':final_data[:,0],'Frequency':final_data[:,1]}) ## Converting The Numpy Into PAndas DataFrame With Coloum Name\n",
    "dataset.to_csv('Frequency.csv',index=False) ## Converting The DataFrame To CSV File \n",
    "print(dataset)"
   ]
  },
  {
   "cell_type": "markdown",
   "metadata": {},
   "source": [
    "## 2.4) Now, find the hashtags that were most popular among these bloggers"
   ]
  },
  {
   "cell_type": "code",
   "execution_count": 10,
   "metadata": {},
   "outputs": [
    {
     "name": "stdout",
     "output_type": "stream",
     "text": [
      "('dilsefoodie', 10)\n",
      "('staysafe', 10)\n",
      "('FoodInsider', 8)\n",
      "('stayhome', 8)\n",
      "('fooddarzee', 7)\n"
     ]
    }
   ],
   "source": [
    "t = 1 ## Keeping A Count As We Need Popular Hashtgas That Is Hashtags With Maximum Frequency\n",
    "top_5_hash = [] ## Hashtags\n",
    "top_5_times = [] ## And Its Counts\n",
    "for i in sorted (totalFreq.items(), key = lambda kv: kv[1],reverse=True): ## Sorting In Desending Order\n",
    "    top_5_hash.append(i[0]) ## Appending The Words\n",
    "    top_5_times.append(i[1]) ## Appending Its COunts\n",
    "    print(i)\n",
    "    t = t + 1 ## Increaing As We Need Only 5\n",
    "    if t>5: ## Cheaking Wheather Reached 5 Hashtags Or Not\n",
    "        break"
   ]
  },
  {
   "cell_type": "markdown",
   "metadata": {},
   "source": [
    "## 2.5) Plot a Pie Chart of the top 5 hashtags obtained and the number of times they were used by these bloggers in the scraped posts."
   ]
  },
  {
   "cell_type": "code",
   "execution_count": 11,
   "metadata": {},
   "outputs": [
    {
     "data": {
      "image/png": "[encoded data removed]",
      "text/plain": [
       "<Figure size 432x288 with 1 Axes>"
      ]
     },
     "metadata": {},
     "output_type": "display_data"
    }
   ],
   "source": [
    "plt.pie(top_5_times,labels = top_5_hash,autopct = \"%.2f%%\") ## Ploting The Pie Chart Of Top 5 Hashtags\n",
    "plt.title(\"Top 5 hashtags used\")\n",
    "plt.show()"
   ]
  },
  {
   "cell_type": "markdown",
   "metadata": {},
   "source": [
    "## 3)You need to also calculate average followers : likes ratio for the obtained handles.Followers : Likes ratio is calculated as follows:"
   ]
  },
  {
   "cell_type": "markdown",
   "metadata": {},
   "source": [
    "## 3.1) Find out the likes of the top 10 posts of the 5 handles obtained earlier."
   ]
  },
  {
   "cell_type": "code",
   "execution_count": 12,
   "metadata": {},
   "outputs": [
    {
     "name": "stdout",
     "output_type": "stream",
     "text": [
      "foodgod [670718, 64274, 283040, 406693, 154995, 978839, 1084993, 527478, 963815, 408248]\n",
      "foodinsider [71269, 171633, 437459, 357161, 7916, 107390, 176274, 220512, 65878, 206692]\n",
      "dilsefoodie [90979, 8465, 114641, 13041, 90097, 40274, 324798, 89271, 78794, 13855]\n",
      "foodtalkindia [3127, 2413, 4538, 1424, 15134, 1768, 3038, 760, 928, 1553]\n",
      "food.darzee [60, 391, 600, 109, 162, 223, 25910, 330, 161, 376]\n"
     ]
    }
   ],
   "source": [
    "top_10_post_like = {} ## Dict To Store The Required Information Keys As Handle And Its Values As List Of Likes In The First 10 Posts\n",
    "for handle in top_5_blog: ## Iterating Through The UserNmae Handle List \n",
    "    search = driver.find_element_by_xpath('//div[contains(@class,\"LWmhU\")]/input') ## Searching For The Input box         \n",
    "    search.send_keys(handle) ## Passing The Handle In The Search Box\n",
    "    b = wait.until(EC.presence_of_element_located((By.CLASS_NAME,'z556c'))) ## Getting The First Profile\n",
    "    first_search = driver.find_element_by_class_name('z556c') ## Getting The First Profile         \n",
    "    first_search.click() ## Clicking On The First Profile\n",
    "    post_likes = [] ## To Store The Likes Of First 10 Posts for Each Handle\n",
    "    time.sleep(2) ## Waiting For The Content Of The Paeg To Get Loaded\n",
    "    first_post = wait.until(EC.presence_of_element_located((By.XPATH,'//div[@class=\"_9AhH0\"]'))).click() ## Clicking On The First Post Of The Searched Profile \n",
    "    i = 1 ## Keeping The Count As We Only Need The Likes Of The 10 Posts         \n",
    "    while i < 11:\n",
    "        details = wait.until(EC.presence_of_element_located((By.XPATH,'//section[@class=\"EDfFK ygqzn\"]'))) ## Getting The Section Which Contains The Likes Or Views Count\n",
    "        try: ## Using Try Block Because For Videos (Views) And Post (Likes) The Class Are DIfferent\n",
    "            non_video = details.find_element_by_xpath('.//div[@class =\"Nm9Fw\"]') ## Fetching The Details Of Posts\n",
    "            li = non_video.find_elements_by_xpath('.//a') ## Getting The List Of All The a Tags Because If Somewhone Has Like The Post The We Get The Name Of That Person\n",
    "            likes = non_video.find_element_by_xpath('.//span').text ## Getting The Count \n",
    "            num = int(likes.replace(',','')) ## Converting The Count Into Numbers And Replacimg The Commas \n",
    "            total = num + len(li) ## Taking Out The Total Count \n",
    "            post_likes.append(total) ## APpending It To The List\n",
    "            next_btn = wait.until(EC.element_to_be_clickable((By.CLASS_NAME,'coreSpriteRightPaginationArrow'))).click() ## Clicking On The Right Side Arrow Button To Go To The Next Post\n",
    "            i = i + 1 ## Increasing The Count As We Need Only 10\n",
    "        except NoSuchElementException: ## This Will Work If The Post Is A Video And Not A Picture\n",
    "            views = details.find_element_by_xpath('.//span[@class = \"vcOH2\"]/span').text ## Getting The Details Of The Video\n",
    "            num = int(views.replace(',','')) ## In Video There Are Only Views And So Converting To Number And Replacing Commas\n",
    "            post_likes.append(num) ## Adding The Count To List\n",
    "            next_btn = wait.until(EC.element_to_be_clickable((By.CLASS_NAME,'coreSpriteRightPaginationArrow'))).click() ## Clicking On The Right Side Arrow Button To Go To The Next Post\n",
    "            i = i + 1 ## Increasing The Count As We Need Only 10\n",
    "    top_10_post_like[handle] = post_likes ## Stroring The Value In Dict\n",
    "    close = driver.find_element_by_xpath('//div[@class=\"                   Igw0E     IwRSH      eGOV_         _4EzTm                                                                                  BI4qX            qJPeX            fm1AK   TxciK yiMZG\"]') ## Searching For The Close Button To Close The Post Page Section\n",
    "    close.click() ## Clicking On The Button To Close The Post Section  \n",
    "for i in top_10_post_like:\n",
    "    print(i,top_10_post_like[i])"
   ]
  },
  {
   "cell_type": "markdown",
   "metadata": {},
   "source": [
    "## 3.2) Calculate the average likes for a handle"
   ]
  },
  {
   "cell_type": "code",
   "execution_count": 13,
   "metadata": {},
   "outputs": [
    {
     "name": "stdout",
     "output_type": "stream",
     "text": [
      "foodgod 554309.3\n",
      "foodinsider 182218.4\n",
      "dilsefoodie 86421.5\n",
      "foodtalkindia 3468.3\n",
      "food.darzee 2832.2\n"
     ]
    }
   ],
   "source": [
    "average_likes = {} ## Dict to Store Average Like of 10 Post For Each Handle\n",
    "for i in top_10_post_like: ## Iterating Throuhg The Dict Obtained In Last Question\n",
    "    l = top_10_post_like[i] ## Taking Out The Value Of Key In A List\n",
    "    total = sum(l) ## Calcuating Its Sum\n",
    "    average = total/len(l) ## Calculating The Average\n",
    "    average_likes[i] = average ## Adding The Deatils To The Dict \n",
    "for i in average_likes:\n",
    "    print(i,average_likes[i])"
   ]
  },
  {
   "cell_type": "markdown",
   "metadata": {},
   "source": [
    "## 3.3) Divide the average likes obtained from the number of followers of the handle to get the average followers:like ratio of each handle"
   ]
  },
  {
   "cell_type": "code",
   "execution_count": 14,
   "metadata": {},
   "outputs": [
    {
     "name": "stdout",
     "output_type": "stream",
     "text": [
      "{'foodgod': 554309.3, 'foodinsider': 182218.4, 'dilsefoodie': 86421.5, 'foodtalkindia': 3468.3, 'food.darzee': 2832.2}\n",
      "['foodgod', 'foodinsider', 'dilsefoodie', 'foodtalkindia', 'food.darzee']\n",
      "[3599203, 2181739, 409515, 294246, 68832]\n",
      "\n",
      "***************************************\n",
      "foodgod 0.15400890141511886\n",
      "foodinsider 0.08351979773932629\n",
      "dilsefoodie 0.21103378386628086\n",
      "foodtalkindia 0.01178707611998124\n",
      "food.darzee 0.041146559739655975\n"
     ]
    }
   ],
   "source": [
    "print(average_likes) ## Obtained In Previous Questions Printing Just To Check \n",
    "print(top_5_blog) ## Obtained In Previous Question Printing Just To Check\n",
    "print(max_follow) ## Obtained In Previous Question Printing Just To Check\n",
    "print() \n",
    "print(\"***************************************\")\n",
    "i = 0\n",
    "avg_follower = []\n",
    "for key in average_likes: ## \n",
    "    avg = average_likes[key]/max_follow[i] ## Followers By Average Like Ratio\n",
    "    avg_follower.append(avg) ## Appending The Avg To A List Required In Later Question\n",
    "    print(key,avg) \n",
    "    i = i + 1"
   ]
  },
  {
   "cell_type": "markdown",
   "metadata": {},
   "source": [
    "## 3.4) Create a bar graph to depict the above obtained information."
   ]
  },
  {
   "cell_type": "code",
   "execution_count": 15,
   "metadata": {},
   "outputs": [
    {
     "data": {
      "image/png": "[encoded data removed]",
      "text/plain": [
       "<Figure size 432x288 with 1 Axes>"
      ]
     },
     "metadata": {
      "needs_background": "light"
     },
     "output_type": "display_data"
    }
   ],
   "source": [
    "plt.bar(top_5_blog,avg_follower) ## Deatils Obtains In Previous Question. Just Showing The Graph.\n",
    "plt.xticks(rotation=90)\n",
    "plt.xlabel('Handles')\n",
    "plt.ylabel('Like vs Followers ratio')\n",
    "plt.title('Handle vs Like Followers Ratio')\n",
    "plt.show()"
   ]
  },
  {
   "cell_type": "code",
   "execution_count": null,
   "metadata": {},
   "outputs": [],
   "source": []
  }
 ],
 "metadata": {
  "kernelspec": {
   "display_name": "Python 3",
   "language": "python",
   "name": "python3"
  },
  "language_info": {
   "codemirror_mode": {
    "name": "ipython",
    "version": 3
   },
   "file_extension": ".py",
   "mimetype": "text/x-python",
   "name": "python",
   "nbconvert_exporter": "python",
   "pygments_lexer": "ipython3",
   "version": "3.7.4"
  }
 },
 "nbformat": 4,
 "nbformat_minor": 4
}
